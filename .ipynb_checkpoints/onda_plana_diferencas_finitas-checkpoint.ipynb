{
 "cells": [
  {
   "cell_type": "code",
   "execution_count": 1,
   "metadata": {
    "collapsed": true
   },
   "outputs": [],
   "source": [
    "# libraries\n",
    "import warnings\n",
    "warnings.filterwarnings('ignore')\n",
    "\n",
    "%matplotlib inline\n",
    "import matplotlib\n",
    "import matplotlib.pyplot as plt\n",
    "\n",
    "# matplotlib defaults setup\n",
    "plt.rcParams['savefig.dpi'] = 75\n",
    "plt.rcParams['figure.autolayout'] = False\n",
    "plt.rcParams['figure.figsize'] = 14, 8\n",
    "plt.rcParams['axes.labelsize'] = 18\n",
    "plt.rcParams['axes.titlesize'] = 20\n",
    "plt.rcParams['font.size'] = 16\n",
    "plt.rcParams['lines.linewidth'] = 2.0\n",
    "plt.rcParams['lines.markersize'] = 8\n",
    "plt.rcParams['legend.fontsize'] = 14\n",
    "plt.rcParams['font.family'] = \"serif\"\n",
    "plt.rcParams['font.serif'] = \"computer modern sans serif\"\n",
    "\n",
    "import numpy as np\n",
    "from scipy.integrate import simps\n",
    "import scipy.constants as cte\n",
    "from scipy.sparse import diags"
   ]
  },
  {
   "cell_type": "code",
   "execution_count": 2,
   "metadata": {},
   "outputs": [],
   "source": [
    "# grandezas de interesse em unidades atomicas\n",
    "au_l = cte.value('atomic unit of length')\n",
    "au_t = cte.value('atomic unit of time')\n",
    "au_e = cte.value('atomic unit of energy')\n",
    "\n",
    "# outras relacoes de interesse\n",
    "ev = cte.value('electron volt')\n",
    "au2ang = au_l / 1e-10\n",
    "au2ev = au_e / ev"
   ]
  },
  {
   "cell_type": "code",
   "execution_count": 3,
   "metadata": {},
   "outputs": [
    {
     "name": "stdout",
     "output_type": "stream",
     "text": [
      "Estouro de norma: N = 256, dt=5.00e-16 s, norma = 832847568522783709322823557250886242888664727369208005168575733506744918062878437353741718113286250832312471611053779995022509707971203795255296.00, contador = 10\n",
      "Estouro de norma: N = 256, dt=1.00e-16 s, norma = 9312993282851284504688969007866838387979645344278093976788812979348842008944755741818880.00, contador = 10\n",
      "Estouro de norma: N = 256, dt=5.00e-17 s, norma = 6015442666855499617990281442811504461889429827275361890917679104.00, contador = 10\n",
      "Estouro de norma: N = 256, dt=1.00e-17 s, norma = 533.01, contador = 10\n",
      "Estouro de norma: N = 256, dt=5.00e-18 s, norma = 89.83, contador = 10\n",
      "Estouro de norma: N = 512, dt=5.00e-16 s, norma = 12641680852954580341351681869891295474175056788944785737743831747063194737983345120343715619075358670477150001518996723135097061790632544009480717572557625251133027041848220750708736.00, contador = 10\n",
      "Estouro de norma: N = 512, dt=1.00e-16 s, norma = 152394931325871789246150087696802787392074068997025688870679099196365498496385583846506604285943975228261184664775471782690816.00, contador = 10\n",
      "Estouro de norma: N = 512, dt=5.00e-17 s, norma = 124948510181663089297902437476464684892668369838084861540444185858496067690547804048758648911442214912.00, contador = 10\n",
      "Estouro de norma: N = 512, dt=1.00e-17 s, norma = 1133603618529726533535689287594072202002038784.00, contador = 10\n",
      "Estouro de norma: N = 512, dt=5.00e-18 s, norma = 361423646449288937472.00, contador = 10\n",
      "Estouro de norma: N = 1024, dt=5.00e-16 s, norma = 18385676764975810371274127491074524075884887544269930796745275708461697166166788844379355913232263170438488806349916400424805093877555399056877768792561754814924120982747906964199989378359262734425623509014738868978319937807319040.00, contador = 10\n",
      "Estouro de norma: N = 1024, dt=1.00e-16 s, norma = 222230202772006914528577555142781443628279663772163516367566326667715521349398244941620944321205826392275738032982986180420198571103452226505770014338768613131916873411067904.00, contador = 10\n",
      "Estouro de norma: N = 1024, dt=5.00e-17 s, norma = 183723129336700435773656646153504200348166007609291699919592115657673204022049926943911957776282240757336377795629355823975398924451828830723872129024.00, contador = 10\n",
      "Estouro de norma: N = 1024, dt=1.00e-17 s, norma = 2182292006891882420991662334127318237633145141442380173389776109716797105405564896756906328064.00, contador = 10\n",
      "Estouro de norma: N = 1024, dt=5.00e-18 s, norma = 1708108453433961706811649520224339874018476961980089383628391493664768.00, contador = 10\n",
      "Estouro de norma: N = 1024, dt=1.00e-18 s, norma = 2944566327852.92, contador = 10\n",
      "Estouro de norma: N = 1024, dt=5.00e-19 s, norma = 973.35, contador = 30\n",
      "Estouro de norma: N = 2048, dt=5.00e-16 s, norma = 20935071055379053667278878524395713576801117369803834244010851200413555096906804830588197644819277761798066415650231885106969932528981380895441197151984568384002721113539259279027626093611499994851706570660326566069399885387480424730837675457315957628593361114594522490829012992.00, contador = 10\n",
      "Estouro de norma: N = 2048, dt=1.00e-16 s, norma = 253086461471690680256172978682459495994216898649174671454691405036605427473092541843892540071894757713689427587597244854899050368330904823618799795591620874901235762986311066388347099082364954389857131882177251107131097088.00, contador = 10\n",
      "Estouro de norma: N = 2048, dt=5.00e-17 s, norma = 209341525597872011330285581376323607393942987369139277748565014525850250282921226229450587691787349529391194671271980674940574722818854197562714477768861066232897535437097102811783250630460538093568.00, contador = 10\n",
      "Estouro de norma: N = 2048, dt=1.00e-17 s, norma = 2528016163288326312189860704167625325754742751038977067619527354411186930484833948917967874310909308954038670110350329791144420444116944420864.00, contador = 10\n",
      "Estouro de norma: N = 2048, dt=5.00e-18 s, norma = 2083973005393400422003784732288228597771198184273794481407032456900128129606231659573275372078348055700179791277719552.00, contador = 10\n",
      "Estouro de norma: N = 2048, dt=1.00e-18 s, norma = 22566164209753596532454300820841065886785044393677016759533568.00, contador = 10\n",
      "Estouro de norma: N = 2048, dt=5.00e-19 s, norma = 13124306703453111789375550403106570240.00, contador = 10\n",
      "[(256, 1e-18, 99.933054175908126, 830), (512, 1e-18, 99.870733491165424, 610), (1024, 1.0000000000000001e-19, 99.998794138897253, 5640), (2048, 1.0000000000000001e-19, 99.999808744336349, 5540)]\n"
     ]
    }
   ],
   "source": [
    "# unidades do problema\n",
    "E_0 = 150.0 # eV\n",
    "L = 60.0 # angstron\n",
    "sigma_x = 1.0 # angstron\n",
    "x_0 = -20.0 # angstron\n",
    "dt = dt_0 = 1e-15 # s\n",
    "\n",
    "# unidades atomicas\n",
    "E_0_au = E_0 / au2ev\n",
    "L_au = L / au2ang\n",
    "sigma_x_au = sigma_x / au2ang\n",
    "x_0_au = x_0 / au2ang\n",
    "dt_au = dt / au_t\n",
    "k_0_au = np.sqrt(2 * E_0_au)\n",
    "\n",
    "# salva os valores onde o algoritmo converge\n",
    "par_convergentes = []\n",
    "\n",
    "# divisor esperto (?)\n",
    "de = lambda x: 2 if int((x/(10**(int(np.log10(x))-1)))%2) == 0 else 5\n",
    "\n",
    "for N in [2**n for n in range(8,12)]:\n",
    "    dt = dt_0\n",
    "    \n",
    "    # malha espacial\n",
    "    x_au = np.linspace(-L_au/2, L_au/2, N)\n",
    "    dx_au = x_au[1] - x_au[0]\n",
    "    # diferencas finitas\n",
    "    alpha = 1j / (2 * dx_au ** 2)\n",
    "    beta = - 1j / (dx_au ** 2)\n",
    "    diagonal_1 = [beta] * N\n",
    "    diagonal_2 = [alpha] * (N - 1)\n",
    "    diagonais = [diagonal_1, diagonal_2, diagonal_2]\n",
    "    M = diags(diagonais, [0, -1, 1]).toarray()\n",
    "    \n",
    "    while True:\n",
    "        #dt /= 10\n",
    "        dt /= de(dt)\n",
    "        dt_au = dt / au_t\n",
    "        \n",
    "        \n",
    "        # pacote de onda\n",
    "        PN = 1/(2*np.pi*sigma_x_au**2)**(1/4)\n",
    "        psi = PN*np.exp(1j*k_0_au*x_au-(x_au-x_0_au)**2/(4*sigma_x_au**2))\n",
    "        A0 = (simps(np.conjugate(psi)*psi,x_au)).real\n",
    "        x_f_au = x_0_au \n",
    "        \n",
    "        funcionou = True\n",
    "        contador = 0\n",
    "        norma = 100\n",
    "        \n",
    "        while x_f_au < -x_0_au:\n",
    "            try:\n",
    "                k1 = M.dot(psi)\n",
    "                k2 = M.dot(psi + dt_au * k1 / 2)\n",
    "                k3 = M.dot(psi + dt_au * k2 / 2)\n",
    "                k4 = M.dot(psi + dt_au * k3)\n",
    "                psi += dt_au * (k1 + 2 * k2 + 2 * k3 + k4) / 6\n",
    "                \n",
    "                contador += 1\n",
    "                if contador % 10 == 0:\n",
    "                    A = (simps(np.conjugate(psi)*psi,x_au)).real\n",
    "                    norma = 100 * A / A0\n",
    "                    if np.abs(norma - 100) > 5:\n",
    "                        funcionou = False\n",
    "                        break\n",
    "                    x_f_au = xm = (simps(np.conjugate(psi)* x_au * psi,x_au)).real / A\n",
    "            except:\n",
    "                funcionou = False\n",
    "                break\n",
    "                \n",
    "        parametros = (N, dt, norma, contador)\n",
    "        if funcionou:\n",
    "            par_convergentes.append(parametros)\n",
    "            break\n",
    "        try:\n",
    "            print(\"Estouro de norma: N = {}, dt={:.2e} s, norma = {:.2f}, contador = {}\".format(*parametros))\n",
    "        except:\n",
    "            print(\"Grande estouro de norma: N = {}, dt={:.2e} s, contador = {}\".format(N, dt, contador))\n",
    "#                 xm2 = (simps(np.conjugate(psi)* x_au**2 * psi,x_au)).real / A\n",
    "#                 sigma = np.sqrt(np.abs(xm2 - xm**2))\n",
    "#                 print(\"A = {:.5f} %, <x> = {:.5f} A, sigma = {:.5f}\".format(norma, xm, sigma))\n",
    "#             if st % 10 == 0 or st == Ns-1:\n",
    "#                 plt.plot(x_au, np.abs(psi))\n",
    "#                 plt.show()\n",
    "print(par_convergentes)"
   ]
  },
  {
   "cell_type": "code",
   "execution_count": 4,
   "metadata": {
    "scrolled": true
   },
   "outputs": [
    {
     "data": {
      "text/plain": [
       "array([ 8.,  8.])"
      ]
     },
     "execution_count": 4,
     "metadata": {},
     "output_type": "execute_result"
    }
   ],
   "source": [
    "np.ones(2)+7"
   ]
  },
  {
   "cell_type": "code",
   "execution_count": 8,
   "metadata": {},
   "outputs": [
    {
     "data": {
      "text/plain": [
       "0.00019125566365119084"
      ]
     },
     "execution_count": 8,
     "metadata": {},
     "output_type": "execute_result"
    }
   ],
   "source": [
    "100-99.999808744336349"
   ]
  },
  {
   "cell_type": "code",
   "execution_count": null,
   "metadata": {
    "collapsed": true
   },
   "outputs": [],
   "source": []
  }
 ],
 "metadata": {
  "kernelspec": {
   "display_name": "Python 3",
   "language": "python",
   "name": "python3"
  },
  "language_info": {
   "codemirror_mode": {
    "name": "ipython",
    "version": 3
   },
   "file_extension": ".py",
   "mimetype": "text/x-python",
   "name": "python",
   "nbconvert_exporter": "python",
   "pygments_lexer": "ipython3",
   "version": "3.6.3"
  },
  "latex_envs": {
   "LaTeX_envs_menu_present": true,
   "autocomplete": true,
   "bibliofile": "biblio.bib",
   "cite_by": "apalike",
   "current_citInitial": 1,
   "eqLabelWithNumbers": true,
   "eqNumInitial": 1,
   "hotkeys": {
    "equation": "Ctrl-E",
    "itemize": "Ctrl-I"
   },
   "labels_anchors": false,
   "latex_user_defs": false,
   "report_style_numbering": false,
   "user_envs_cfg": false
  }
 },
 "nbformat": 4,
 "nbformat_minor": 2
}
