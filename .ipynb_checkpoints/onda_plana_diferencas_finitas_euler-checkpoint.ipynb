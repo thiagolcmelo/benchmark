{
 "cells": [
  {
   "cell_type": "code",
   "execution_count": 1,
   "metadata": {
    "collapsed": true
   },
   "outputs": [],
   "source": [
    "# libraries\n",
    "import warnings\n",
    "warnings.filterwarnings('ignore')\n",
    "\n",
    "%matplotlib inline\n",
    "import matplotlib\n",
    "import matplotlib.pyplot as plt\n",
    "\n",
    "# matplotlib defaults setup\n",
    "plt.rcParams['savefig.dpi'] = 75\n",
    "plt.rcParams['figure.autolayout'] = False\n",
    "plt.rcParams['figure.figsize'] = 14, 8\n",
    "plt.rcParams['axes.labelsize'] = 18\n",
    "plt.rcParams['axes.titlesize'] = 20\n",
    "plt.rcParams['font.size'] = 16\n",
    "plt.rcParams['lines.linewidth'] = 2.0\n",
    "plt.rcParams['lines.markersize'] = 8\n",
    "plt.rcParams['legend.fontsize'] = 14\n",
    "plt.rcParams['font.family'] = \"serif\"\n",
    "plt.rcParams['font.serif'] = \"computer modern sans serif\"\n",
    "\n",
    "import numpy as np\n",
    "from scipy.integrate import simps\n",
    "import scipy.constants as cte\n",
    "from scipy.sparse import diags"
   ]
  },
  {
   "cell_type": "code",
   "execution_count": 2,
   "metadata": {
    "collapsed": true
   },
   "outputs": [],
   "source": [
    "# grandezas de interesse em unidades atomicas\n",
    "au_l = cte.value('atomic unit of length')\n",
    "au_t = cte.value('atomic unit of time')\n",
    "au_e = cte.value('atomic unit of energy')\n",
    "\n",
    "# outras relacoes de interesse\n",
    "ev = cte.value('electron volt')\n",
    "au2ang = au_l / 1e-10\n",
    "au2ev = au_e / ev"
   ]
  },
  {
   "cell_type": "code",
   "execution_count": null,
   "metadata": {},
   "outputs": [
    {
     "name": "stdout",
     "output_type": "stream",
     "text": [
      "Estouro de norma: N = 256, dt=5.00e-16 s, norma = 4099223051973362430293387566720086060302336.00, contador = 10\n",
      "Estouro de norma: N = 256, dt=2.50e-16 s, norma = 3917733368181365530864288318300880896.00, contador = 10\n",
      "Estouro de norma: N = 256, dt=1.25e-16 s, norma = 3768483051361506823664782278656.00, contador = 10\n",
      "Estouro de norma: N = 256, dt=6.25e-17 s, norma = 3719388053862356569030656.00, contador = 10\n",
      "Estouro de norma: N = 256, dt=3.13e-17 s, norma = 4065811554659158528.00, contador = 10\n",
      "Estouro de norma: N = 256, dt=1.56e-17 s, norma = 6610749759203.45, contador = 10\n",
      "Estouro de norma: N = 256, dt=7.81e-18 s, norma = 44305713.94, contador = 10\n",
      "Estouro de norma: N = 256, dt=3.91e-18 s, norma = 12258.52, contador = 10\n",
      "Estouro de norma: N = 256, dt=1.95e-18 s, norma = 385.16, contador = 10\n",
      "Estouro de norma: N = 256, dt=9.77e-19 s, norma = 141.28, contador = 10\n",
      "Estouro de norma: N = 256, dt=4.88e-19 s, norma = 109.08, contador = 10\n",
      "Estouro de norma: N = 256, dt=2.44e-19 s, norma = 106.75, contador = 30\n",
      "Estouro de norma: N = 256, dt=1.22e-19 s, norma = 105.03, contador = 90\n",
      "Estouro de norma: N = 256, dt=6.10e-20 s, norma = 105.03, contador = 360\n",
      "Estouro de norma: N = 256, dt=3.05e-20 s, norma = 105.03, contador = 1440\n",
      "Estouro de norma: N = 256, dt=1.53e-20 s, norma = 105.01, contador = 5740\n",
      "Estouro de norma: N = 256, dt=7.63e-21 s, norma = 105.00, contador = 22930\n",
      "Estouro de norma: N = 256, dt=3.81e-21 s, norma = 105.00, contador = 91690\n",
      "Estouro de norma: N = 256, dt=1.91e-21 s, norma = 101.42, contador = 105980\n"
     ]
    }
   ],
   "source": [
    "# unidades do problema\n",
    "E_0 = 150.0 # eV\n",
    "L = 60.0 # angstron\n",
    "sigma_x = 1.0 # angstron\n",
    "x_0 = -20.0 # angstron\n",
    "dt = dt_0 = 1e-15 # s\n",
    "\n",
    "# unidades atomicas\n",
    "E_0_au = E_0 / au2ev\n",
    "L_au = L / au2ang\n",
    "sigma_x_au = sigma_x / au2ang\n",
    "x_0_au = x_0 / au2ang\n",
    "dt_au = dt / au_t\n",
    "k_0_au = np.sqrt(2 * E_0_au)\n",
    "\n",
    "# salva os valores onde o algoritmo converge\n",
    "par_convergentes = []\n",
    "\n",
    "for N in [2**n for n in range(8,12)]:\n",
    "    dt = dt_0\n",
    "    \n",
    "    # malha espacial\n",
    "    x_au = np.linspace(-L_au/2, L_au/2, N)\n",
    "    dx_au = x_au[1] - x_au[0]\n",
    "    # diferencas finitas\n",
    "    alpha = 1j / (2 * dx_au ** 2)\n",
    "    beta = - 1j / (dx_au ** 2)\n",
    "    diagonal_1 = [beta] * N\n",
    "    diagonal_2 = [alpha] * (N - 1)\n",
    "    diagonais = [diagonal_1, diagonal_2, diagonal_2]\n",
    "    M = diags(diagonais, [0, -1, 1]).toarray()\n",
    "    \n",
    "    while True:\n",
    "        dt /= 10\n",
    "        dt_au = dt / au_t\n",
    "        \n",
    "        # pacote de onda\n",
    "        PN = 1/(2*np.pi*sigma_x_au**2)**(1/4)\n",
    "        psi = PN*np.exp(1j*k_0_au*x_au-(x_au-x_0_au)**2/(4*sigma_x_au**2))\n",
    "        A0 = (simps(np.conjugate(psi)*psi,x_au)).real\n",
    "        x_f_au = x_0_au \n",
    "        \n",
    "        funcionou = True\n",
    "        contador = 0\n",
    "        norma = 100\n",
    "        \n",
    "        while x_f_au < -x_0_au:\n",
    "            try:\n",
    "                psi += dt_au * M.dot(psi)\n",
    "                contador += 1\n",
    "                if contador % 10 == 0:\n",
    "                    A = (simps(np.conjugate(psi)*psi,x_au)).real\n",
    "                    norma = 100 * A / A0\n",
    "                    if np.abs(norma - 100) > 5:\n",
    "                        funcionou = False\n",
    "                        break\n",
    "                    x_f_au = xm = (simps(np.conjugate(psi)* x_au * psi,x_au)).real / A\n",
    "            except:\n",
    "                funcionou = False\n",
    "                break\n",
    "                \n",
    "        parametros = (N, dt, norma, contador)\n",
    "        if funcionou:\n",
    "            par_convergentes.append(parametros)\n",
    "            break\n",
    "        try:\n",
    "            print(\"Estouro de norma: N = {}, dt={:.2e} s, norma = {:.2f}, contador = {}\".format(*parametros))\n",
    "        except:\n",
    "            print(\"Grande estouro de norma: N = {}, dt={:.2e} s, contador = {}\".format(N, dt, contador))\n",
    "#                 xm2 = (simps(np.conjugate(psi)* x_au**2 * psi,x_au)).real / A\n",
    "#                 sigma = np.sqrt(np.abs(xm2 - xm**2))\n",
    "#                 print(\"A = {:.5f} %, <x> = {:.5f} A, sigma = {:.5f}\".format(norma, xm, sigma))\n",
    "#             if st % 10 == 0 or st == Ns-1:\n",
    "#                 plt.plot(x_au, np.abs(psi))\n",
    "#                 plt.show()\n",
    "print(par_convergentes)"
   ]
  },
  {
   "cell_type": "code",
   "execution_count": null,
   "metadata": {
    "scrolled": true
   },
   "outputs": [],
   "source": []
  },
  {
   "cell_type": "code",
   "execution_count": null,
   "metadata": {},
   "outputs": [],
   "source": []
  },
  {
   "cell_type": "code",
   "execution_count": null,
   "metadata": {
    "collapsed": true
   },
   "outputs": [],
   "source": []
  }
 ],
 "metadata": {
  "kernelspec": {
   "display_name": "Python 3",
   "language": "python",
   "name": "python3"
  },
  "language_info": {
   "codemirror_mode": {
    "name": "ipython",
    "version": 3
   },
   "file_extension": ".py",
   "mimetype": "text/x-python",
   "name": "python",
   "nbconvert_exporter": "python",
   "pygments_lexer": "ipython3",
   "version": "3.6.3"
  },
  "latex_envs": {
   "LaTeX_envs_menu_present": true,
   "autocomplete": true,
   "bibliofile": "biblio.bib",
   "cite_by": "apalike",
   "current_citInitial": 1,
   "eqLabelWithNumbers": true,
   "eqNumInitial": 1,
   "hotkeys": {
    "equation": "Ctrl-E",
    "itemize": "Ctrl-I"
   },
   "labels_anchors": false,
   "latex_user_defs": false,
   "report_style_numbering": false,
   "user_envs_cfg": false
  }
 },
 "nbformat": 4,
 "nbformat_minor": 2
}
