{
 "cells": [
  {
   "cell_type": "code",
   "execution_count": 1,
   "metadata": {
    "collapsed": true
   },
   "outputs": [],
   "source": [
    "# libraries\n",
    "import warnings\n",
    "warnings.filterwarnings('ignore')\n",
    "import numpy as np\n",
    "from scipy.integrate import simps\n",
    "import scipy.constants as cte\n",
    "from scipy.sparse import diags"
   ]
  },
  {
   "cell_type": "code",
   "execution_count": 2,
   "metadata": {
    "collapsed": true
   },
   "outputs": [],
   "source": [
    "# grandezas de interesse em unidades atomicas\n",
    "au_l = cte.value('atomic unit of length')\n",
    "au_t = cte.value('atomic unit of time')\n",
    "au_e = cte.value('atomic unit of energy')\n",
    "\n",
    "# outras relacoes de interesse\n",
    "ev = cte.value('electron volt')\n",
    "au2ang = au_l / 1e-10\n",
    "au2ev = au_e / ev"
   ]
  },
  {
   "cell_type": "code",
   "execution_count": null,
   "metadata": {},
   "outputs": [
    {
     "name": "stdout",
     "output_type": "stream",
     "text": [
      "Estouro: N = 256, dt=5.00e-16 s, A = 535704696958006623909490673573521239326709646943177153401789458691383278154438233372643780821069889647283710659214910160896.00, G = 0.00, contador = 10\n",
      "Estouro: N = 256, dt=1.00e-16 s, A = 4514261088062922224881874353883357957831651666275642314821212307456.00, G = 0.00, contador = 10\n",
      "Estouro: N = 256, dt=5.00e-17 s, A = 1104782287657877615024961618026977434796032.00, G = 0.00, contador = 10\n",
      "Estouro: N = 256, dt=1.00e-17 s, A = 53.86, G = 0.00, contador = 10\n",
      "Estouro: N = 256, dt=5.00e-18 s, A = 95.36, G = -0.07, contador = 40\n",
      "Estouro: N = 256, dt=1.00e-18 s, A = 100.00, G = -0.05, contador = 180\n",
      "Estouro: N = 256, dt=5.00e-19 s, A = 100.00, G = -0.05, contador = 360\n",
      "Estouro: N = 256, dt=1.00e-19 s, A = 100.00, G = -0.05, contador = 1800\n",
      "Estouro: N = 256, dt=5.00e-20 s, A = 100.00, G = -0.05, contador = 3600\n",
      "Estouro: N = 256, dt=1.00e-20 s, A = 100.00, G = -0.05, contador = 17980\n",
      "Estouro: N = 256, dt=5.00e-21 s, A = 100.00, G = -0.05, contador = 35950\n",
      "Estouro: N = 256, dt=1.00e-21 s, A = 100.00, G = -0.05, contador = 179730\n",
      "Estouro: N = 256, dt=5.00e-22 s, A = 100.00, G = -0.05, contador = 359450\n"
     ]
    }
   ],
   "source": [
    "# unidades do problema\n",
    "E_0 = 150.0 # eV\n",
    "L = 100.0 # angstron\n",
    "sigma_x = 1.0 # angstron\n",
    "x_0 = -20.0 # angstron\n",
    "dt = dt_0 = 1e-15 # s\n",
    "\n",
    "# unidades atomicas\n",
    "E_0_au = E_0 / au2ev\n",
    "L_au = L / au2ang\n",
    "sigma_x_au = sigma_x / au2ang\n",
    "x_0_au = x_0 / au2ang\n",
    "dt_au = dt / au_t\n",
    "k_0_au = np.sqrt(2 * E_0_au)\n",
    "\n",
    "# salva os valores onde o algoritmo converge\n",
    "par_convergentes = []\n",
    "\n",
    "# divisor esperto (?)\n",
    "de = lambda x: 2 if int((x/(10**(int(np.log10(x))-1)))%2) == 0 else 5\n",
    "\n",
    "for N in [2**n for n in range(8,12)]:\n",
    "    dt = dt_0\n",
    "    \n",
    "    # malha espacial\n",
    "    x_au = np.linspace(-L_au/2, L_au/2, N)\n",
    "    dx_au = x_au[1] - x_au[0]\n",
    "    # diferencas finitas\n",
    "    alpha = 1j / (2 * dx_au ** 2)\n",
    "    beta = - 1j / (dx_au ** 2)\n",
    "    diagonal_1 = [beta] * N\n",
    "    diagonal_2 = [alpha] * (N - 1)\n",
    "    diagonais = [diagonal_1, diagonal_2, diagonal_2]\n",
    "    M = diags(diagonais, [0, -1, 1]).toarray()\n",
    "    \n",
    "    while True:\n",
    "        #dt /= 10\n",
    "        dt /= de(dt)\n",
    "        dt_au = dt / au_t\n",
    "        \n",
    "        \n",
    "        # pacote de onda\n",
    "        PN = 1/(2*np.pi*sigma_x_au**2)**(1/4)\n",
    "        psi = PN*np.exp(1j*k_0_au*x_au-(x_au-x_0_au)**2/(4*sigma_x_au**2))\n",
    "        A0 = (simps(np.conjugate(psi)*psi,x_au)).real\n",
    "        x_f_au = x_0_au \n",
    "        \n",
    "        funcionou = True\n",
    "        contador = 0\n",
    "        norma = 100\n",
    "        skewness = 0\n",
    "        \n",
    "        while x_f_au < -x_0_au:\n",
    "            try:\n",
    "                k1 = M.dot(psi)\n",
    "                k2 = M.dot(psi + dt_au * k1 / 2)\n",
    "                k3 = M.dot(psi + dt_au * k2 / 2)\n",
    "                k4 = M.dot(psi + dt_au * k3)\n",
    "                psi += dt_au * (k1 + 2 * k2 + 2 * k3 + k4) / 6\n",
    "                \n",
    "                contador += 1\n",
    "                if contador % 10 == 0:\n",
    "                    psis = np.conjugate(psi)\n",
    "                    A = (simps(psis*psi,x_au)).real\n",
    "                    norma = 100 * A / A0\n",
    "                    if np.abs(norma - 100) > 5:\n",
    "                        funcionou = False\n",
    "                        break\n",
    "                    \n",
    "                    x_f_au = xm1 = (simps(psis* x_au * psi,x_au)).real / A\n",
    "                    xm2 = (simps(psis* x_au**2 * psi,x_au)).real / A\n",
    "                    xm3 = (simps(psis* x_au**3 * psi,x_au)).real / A\n",
    "                    \n",
    "                    sigma = np.sqrt(np.abs(xm2 - xm1**2))\n",
    "                    skewness = gamma = (xm3 - 3*xm1*sigma**2-xm1**3)/sigma**3\n",
    "                    if np.abs(gamma) > 0.1:\n",
    "                        funcionou = False\n",
    "                        break\n",
    "            except:\n",
    "                funcionou = False\n",
    "                break\n",
    "                \n",
    "        parametros = (N, dt, norma, skewness, contador)\n",
    "        if funcionou:\n",
    "            par_convergentes.append(parametros)\n",
    "            break\n",
    "        print(\"Estouro: N = {}, dt={:.2e} s, A = {:.2f}, G = {:.2f}, contador = {}\".format(*parametros))\n",
    "print(par_convergentes)"
   ]
  },
  {
   "cell_type": "code",
   "execution_count": 4,
   "metadata": {
    "scrolled": true
   },
   "outputs": [
    {
     "data": {
      "text/plain": [
       "array([ 8.,  8.])"
      ]
     },
     "execution_count": 4,
     "metadata": {},
     "output_type": "execute_result"
    }
   ],
   "source": [
    "np.ones(2)+7"
   ]
  },
  {
   "cell_type": "code",
   "execution_count": 8,
   "metadata": {},
   "outputs": [
    {
     "data": {
      "text/plain": [
       "0.00019125566365119084"
      ]
     },
     "execution_count": 8,
     "metadata": {},
     "output_type": "execute_result"
    }
   ],
   "source": [
    "100-99.999808744336349"
   ]
  },
  {
   "cell_type": "code",
   "execution_count": null,
   "metadata": {
    "collapsed": true
   },
   "outputs": [],
   "source": []
  }
 ],
 "metadata": {
  "kernelspec": {
   "display_name": "Python 3",
   "language": "python",
   "name": "python3"
  },
  "language_info": {
   "codemirror_mode": {
    "name": "ipython",
    "version": 3
   },
   "file_extension": ".py",
   "mimetype": "text/x-python",
   "name": "python",
   "nbconvert_exporter": "python",
   "pygments_lexer": "ipython3",
   "version": "3.6.3"
  },
  "latex_envs": {
   "LaTeX_envs_menu_present": true,
   "autocomplete": true,
   "bibliofile": "biblio.bib",
   "cite_by": "apalike",
   "current_citInitial": 1,
   "eqLabelWithNumbers": true,
   "eqNumInitial": 1,
   "hotkeys": {
    "equation": "Ctrl-E",
    "itemize": "Ctrl-I"
   },
   "labels_anchors": false,
   "latex_user_defs": false,
   "report_style_numbering": false,
   "user_envs_cfg": false
  }
 },
 "nbformat": 4,
 "nbformat_minor": 2
}
