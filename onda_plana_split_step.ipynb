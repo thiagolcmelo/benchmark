{
 "cells": [
  {
   "cell_type": "code",
   "execution_count": 1,
   "metadata": {
    "collapsed": true
   },
   "outputs": [],
   "source": [
    "# libraries\n",
    "import warnings\n",
    "warnings.filterwarnings('ignore')\n",
    "import numpy as np\n",
    "from scipy.integrate import simps\n",
    "import scipy.constants as cte\n",
    "from scipy.sparse import diags\n",
    "from scipy.linalg import inv\n",
    "from scipy.fftpack import fft, ifft, fftfreq"
   ]
  },
  {
   "cell_type": "code",
   "execution_count": 2,
   "metadata": {
    "collapsed": true
   },
   "outputs": [],
   "source": [
    "# grandezas de interesse em unidades atomicas\n",
    "au_l = cte.value('atomic unit of length')\n",
    "au_t = cte.value('atomic unit of time')\n",
    "au_e = cte.value('atomic unit of energy')\n",
    "\n",
    "# outras relacoes de interesse\n",
    "ev = cte.value('electron volt')\n",
    "au2ang = au_l / 1e-10\n",
    "au2ev = au_e / ev"
   ]
  },
  {
   "cell_type": "code",
   "execution_count": null,
   "metadata": {},
   "outputs": [
    {
     "name": "stdout",
     "output_type": "stream",
     "text": [
      "[(100.0, 512, 5e-18, 100.00000000000018, 1.4153561677050928e-13, 111), (100.0, 1024, 5e-18, 100.00000000000031, 1.4153561677049257e-13, 111), (100.0, 2048, 5e-18, 100.00000000000003, 5.6614246708195602e-14, 111)]\n",
      "Estouro: L = 250.0, N = 512, dt=5.00e-18 s, A = 99.95, G = -0.50, contador = 247\n",
      "Estouro: L = 250.0, N = 512, dt=1.00e-18 s, A = 99.95, G = -0.50, contador = 1234\n",
      "Estouro: L = 250.0, N = 512, dt=5.00e-19 s, A = 99.95, G = -0.50, contador = 2468\n",
      "Estouro: L = 250.0, N = 512, dt=1.00e-19 s, A = 99.95, G = -0.50, contador = 12339\n",
      "Estouro: L = 250.0, N = 512, dt=5.00e-20 s, A = 99.95, G = -0.50, contador = 24677\n",
      "Estouro: L = 250.0, N = 512, dt=1.00e-20 s, A = 99.95, G = -0.50, contador = 123383\n",
      "Estouro: L = 250.0, N = 512, dt=5.00e-21 s, A = 99.95, G = -0.50, contador = 246765\n",
      "Estouro: L = 250.0, N = 512, dt=1.00e-21 s, A = 99.95, G = -0.50, contador = 1233824\n"
     ]
    }
   ],
   "source": [
    "# salva os valores onde o algoritmo converge\n",
    "par_convergentes = []\n",
    "for L in np.linspace(100,1000,7):\n",
    "    # unidades do problema\n",
    "    E_0 = 150.0 # eV\n",
    "    #L = 100.0 # angstron\n",
    "    sigma_x = 1.0 # angstron\n",
    "    x_0 = -20.0 # angstron\n",
    "    dt = dt_0 = 1e-17 # s\n",
    "\n",
    "    # unidades atomicas\n",
    "    E_0_au = E_0 / au2ev\n",
    "    L_au = L / au2ang\n",
    "    sigma_x_au = sigma_x / au2ang\n",
    "    x_0_au = x_0 / au2ang\n",
    "    dt_au = dt / au_t\n",
    "    k_0_au = np.sqrt(2 * E_0_au)\n",
    "\n",
    "    # divisor esperto (?)\n",
    "    de = lambda x: 2 if int((x/(10**(int(np.log10(x))-1)))%2) == 0 else 5\n",
    "\n",
    "    for N in [2**n for n in range(9,12)]:\n",
    "        if float(L) / float(N) > 0.5:\n",
    "            continue\n",
    "            \n",
    "        dt = dt_0\n",
    "\n",
    "        # malha espacial\n",
    "        x_au = np.linspace(-L_au/2, L_au/2, N)\n",
    "        dx_au = x_au[1] - x_au[0]\n",
    "\n",
    "        k_au = fftfreq(N, d=dx_au)\n",
    "\n",
    "        while True:\n",
    "            #dt /= 10\n",
    "            dt /= de(dt)\n",
    "            dt_au = dt / au_t\n",
    "\n",
    "            # split step\n",
    "            exp_v2 = lambda t: 1.0\n",
    "            exp_t = np.exp(- 0.5j * (2 * np.pi * k_au) ** 2 * dt_au)\n",
    "            evolve_real = lambda psi, t: exp_v2(t) * ifft(exp_t * fft(exp_v2(t) * psi))\n",
    "\n",
    "            # pacote de onda\n",
    "            PN = 1/(2*np.pi*sigma_x_au**2)**(1/4)\n",
    "            psi = PN*np.exp(1j*k_0_au*x_au-(x_au-x_0_au)**2/(4*sigma_x_au**2))\n",
    "            A0 = (simps(np.conjugate(psi)*psi,x_au)).real\n",
    "            x_f_au = x_0_au \n",
    "\n",
    "            funcionou = True\n",
    "            contador = 0\n",
    "            norma = 100\n",
    "            skewness = 0\n",
    "\n",
    "            while x_f_au < -x_0_au:\n",
    "                try:\n",
    "                    psi = evolve_real(psi, 0)\n",
    "                    contador += 1\n",
    "                    #if contador % 10 == 0:\n",
    "                    psis = np.conjugate(psi)\n",
    "                    A = (simps(psis*psi,x_au)).real\n",
    "                    norma = 100 * A / A0\n",
    "                    if np.abs(norma - 100) > 5:\n",
    "                        funcionou = False\n",
    "                        break\n",
    "\n",
    "                    x_f_au = xm1 = (simps(psis* x_au * psi,x_au)).real / A\n",
    "                    xm2 = (simps(psis* x_au**2 * psi,x_au)).real / A\n",
    "                    xm3 = (simps(psis* x_au**3 * psi,x_au)).real / A\n",
    "\n",
    "                    sigma = np.sqrt(np.abs(xm2 - xm1**2))\n",
    "                    skewness = gamma = (xm3 - 3*xm1*sigma**2-xm1**3)/sigma**3\n",
    "                    if np.abs(gamma) > 0.5:\n",
    "                        funcionou = False\n",
    "                        break\n",
    "                except:\n",
    "                    funcionou = False\n",
    "                    break\n",
    "\n",
    "            parametros = (L, N, dt, norma, skewness, contador)\n",
    "            if funcionou:\n",
    "                par_convergentes.append(parametros)\n",
    "                break\n",
    "            print(\"Estouro: L = {}, N = {}, dt={:.2e} s, A = {:.2f}, G = {:.2f}, contador = {}\".format(*parametros))\n",
    "    print(par_convergentes)\n",
    "print(par_convergentes)"
   ]
  },
  {
   "cell_type": "code",
   "execution_count": 4,
   "metadata": {
    "scrolled": true
   },
   "outputs": [
    {
     "data": {
      "text/plain": [
       "array([ 8.,  8.])"
      ]
     },
     "execution_count": 4,
     "metadata": {},
     "output_type": "execute_result"
    }
   ],
   "source": [
    "np.ones(2)+7"
   ]
  },
  {
   "cell_type": "code",
   "execution_count": 2,
   "metadata": {},
   "outputs": [
    {
     "data": {
      "text/plain": [
       "1"
      ]
     },
     "execution_count": 2,
     "metadata": {},
     "output_type": "execute_result"
    }
   ],
   "source": [
    "np.abs(-1)"
   ]
  },
  {
   "cell_type": "code",
   "execution_count": null,
   "metadata": {
    "collapsed": true
   },
   "outputs": [],
   "source": []
  }
 ],
 "metadata": {
  "kernelspec": {
   "display_name": "Python 3",
   "language": "python",
   "name": "python3"
  },
  "language_info": {
   "codemirror_mode": {
    "name": "ipython",
    "version": 3
   },
   "file_extension": ".py",
   "mimetype": "text/x-python",
   "name": "python",
   "nbconvert_exporter": "python",
   "pygments_lexer": "ipython3",
   "version": "3.6.3"
  },
  "latex_envs": {
   "LaTeX_envs_menu_present": true,
   "autocomplete": true,
   "bibliofile": "biblio.bib",
   "cite_by": "apalike",
   "current_citInitial": 1,
   "eqLabelWithNumbers": true,
   "eqNumInitial": 1,
   "hotkeys": {
    "equation": "Ctrl-E",
    "itemize": "Ctrl-I"
   },
   "labels_anchors": false,
   "latex_user_defs": false,
   "report_style_numbering": false,
   "user_envs_cfg": false
  }
 },
 "nbformat": 4,
 "nbformat_minor": 2
}
