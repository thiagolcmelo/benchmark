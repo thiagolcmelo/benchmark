{
 "cells": [
  {
   "cell_type": "code",
   "execution_count": 1,
   "metadata": {},
   "outputs": [],
   "source": [
    "import matplotlib.pyplot as plt\n",
    "import numpy as np\n",
    "import pandas as pd\n",
    "from scipy.stats import norm, skewnorm\n",
    "plt.rcParams['savefig.dpi'] = 75\n",
    "plt.rcParams['figure.autolayout'] = False\n",
    "plt.rcParams['figure.figsize'] = 14, 8\n",
    "plt.rcParams['axes.labelsize'] = 18\n",
    "plt.rcParams['axes.titlesize'] = 22\n",
    "plt.rcParams['font.size'] = 20\n",
    "plt.rcParams['lines.linewidth'] = 1.5\n",
    "plt.rcParams['lines.markersize'] = 8\n",
    "plt.rcParams['legend.fontsize'] = 20\n",
    "plt.rcParams['font.family'] = \"serif\"\n",
    "plt.rcParams['font.serif'] = \"computer modern sans serif\"\n",
    "plt.rcParams['text.usetex']=True\n",
    "plt.rcParams['text.latex.unicode']=True"
   ]
  },
  {
   "cell_type": "code",
   "execution_count": 4,
   "metadata": {},
   "outputs": [],
   "source": [
    "x = np.linspace(-10, 10, 1000)\n",
    "\n",
    "df = pd.DataFrame({\n",
    "    'x':x,\n",
    "    'low_standard_deviation': norm.pdf(x, loc=0, scale=0.5),\n",
    "    'normal_standard_deviation': norm.pdf(x, loc=0, scale=2.0),\n",
    "    'high_standard_deviation': norm.pdf(x, loc=0, scale=4.0),\n",
    "    'negative_skewness': skewnorm.pdf(x, -2, loc=0, scale=2.0),\n",
    "    'zero_snewness': skewnorm.pdf(x, 0, loc=0, scale=2.0),\n",
    "    'positive_skewness': skewnorm.pdf(x, 2, loc=0, scale=2.0)\n",
    "})\n",
    "df.to_csv('comparacao_desvio_padrao_obliquidade.csv')\n",
    "# f, ((ax1, ax2, ax3), (ax4, ax5, ax6)) = plt.subplots(2, 3, sharey=True)\n",
    "# mean, var, skew, kurt = norm.stats(moments='mvsk')\n",
    "# ax1.plot(x, norm.pdf(x, loc=0, scale=0.5), 'r-', alpha=0.6, label='norm pdf')\n",
    "# ax1.text(-8, 0.6, r\"$\\sigma < \\sigma_0$\")\n",
    "# ax2.plot(x, norm.pdf(x, loc=0, scale=2.0), 'r-', alpha=0.6, label='norm pdf')\n",
    "# ax2.text(-8, 0.6, r\"$\\sigma = \\sigma_0$\")\n",
    "# ax3.plot(x, norm.pdf(x, loc=0, scale=4.0), 'r-', alpha=0.6, label='norm pdf')\n",
    "# ax3.text(-8, 0.6, r\"$\\sigma > \\sigma_0$\")\n",
    "\n",
    "# ax4.plot(x, skewnorm.pdf(x, -2, loc=0, scale=2.0), 'r-', alpha=0.6, label='norm pdf')\n",
    "# ax4.text(-8, 0.6, r\"$\\gamma < 0$\")\n",
    "# ax5.plot(x, skewnorm.pdf(x, 0, loc=0, scale=2.0), 'r-', alpha=0.6, label='norm pdf')\n",
    "# ax5.text(-8, 0.6, r\"$\\gamma = 0$\")\n",
    "# ax6.plot(x, skewnorm.pdf(x, 2, loc=0, scale=2.0), 'r-', alpha=0.6, label='norm pdf')\n",
    "# ax6.text(-8, 0.6, r\"$\\gamma > 0$\")\n",
    "\n",
    "# plt.show()\n"
   ]
  }
 ],
 "metadata": {
  "kernelspec": {
   "display_name": "Python 3",
   "language": "python",
   "name": "python3"
  },
  "language_info": {
   "codemirror_mode": {
    "name": "ipython",
    "version": 3
   },
   "file_extension": ".py",
   "mimetype": "text/x-python",
   "name": "python",
   "nbconvert_exporter": "python",
   "pygments_lexer": "ipython3",
   "version": "3.6.4"
  }
 },
 "nbformat": 4,
 "nbformat_minor": 2
}
